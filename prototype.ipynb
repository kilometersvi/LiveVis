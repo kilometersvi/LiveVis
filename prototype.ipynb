{
 "cells": [
  {
   "cell_type": "code",
   "execution_count": 18,
   "metadata": {},
   "outputs": [],
   "source": [
    "import numpy as np\n",
    "import pandas as pd\n",
    "import cv2\n",
    "import matplotlib.pyplot as plt\n",
    "import time"
   ]
  },
  {
   "cell_type": "code",
   "execution_count": 32,
   "metadata": {},
   "outputs": [],
   "source": [
    "from functools import partial\n",
    "\n",
    "def imshow(cv2, name, input, fig_size=None, cmap=\"gray\"):\n",
    "    \"\"\"\n",
    "    params:\n",
    "        name - The \"title\" that would show on OpenCv window.\n",
    "        input - the input data\n",
    "        **the two params are the existing parameters in opencv.imshow**\n",
    "        fig_size - receives a tuple for the image size to be printed in the notebook\n",
    "        cmap - a matplotlib-compliant color map code to use in our image\n",
    "    \"\"\"\n",
    "    ## by default, we'll infer the image rendering size by the input shape\n",
    "    ## assuming a density of 80 dpi\n",
    "    if fig_size is None:\n",
    "        dpi = 80\n",
    "        im_data = input\n",
    "        try:\n",
    "            height, width, depth = im_data.shape\n",
    "        except:\n",
    "            height, width = im_data.shape\n",
    "        fig_size = width / float(dpi), height / float(dpi)\n",
    "\n",
    "    try:\n",
    "        input = cv2.cvtColor(input,cv2.COLOR_BGR2RGB)\n",
    "    except :\n",
    "        input = input\n",
    "    \n",
    "    print('using this function')\n",
    "    import matplotlib.pyplot as plt\n",
    "    get_ipython().magic(u'matplotlib inline')\n",
    "    \n",
    "    fig, ax = plt.subplots(figsize=fig_size)\n",
    "    print(\"Showing Image: {}\".format(name))\n",
    "    ax.imshow(input, interpolation='none', aspect=\"auto\", cmap=cmap)\n",
    "    plt.show()\n",
    "\n",
    "def override_imshow(cv2):\n",
    "    ## from now on, cv2.imshow will call our function instead.\n",
    "    cv2.imshow = partial(imshow, cv2)"
   ]
  },
  {
   "cell_type": "code",
   "execution_count": 23,
   "metadata": {},
   "outputs": [
    {
     "ename": "error",
     "evalue": "OpenCV(4.4.0) /tmp/pip-req-build-v7sdauef/opencv/modules/highgui/src/window.cpp:376: error: (-215:Assertion failed) size.width>0 && size.height>0 in function 'imshow'\n",
     "output_type": "error",
     "traceback": [
      "\u001b[0;31m---------------------------------------------------------------------------\u001b[0m",
      "\u001b[0;31merror\u001b[0m                                     Traceback (most recent call last)",
      "\u001b[0;32m<ipython-input-23-21f6239a7293>\u001b[0m in \u001b[0;36m<module>\u001b[0;34m\u001b[0m\n\u001b[1;32m     18\u001b[0m \u001b[0;32mwhile\u001b[0m \u001b[0;32mTrue\u001b[0m\u001b[0;34m:\u001b[0m\u001b[0;34m\u001b[0m\u001b[0;34m\u001b[0m\u001b[0m\n\u001b[1;32m     19\u001b[0m     \u001b[0mret\u001b[0m\u001b[0;34m,\u001b[0m \u001b[0mframe\u001b[0m \u001b[0;34m=\u001b[0m \u001b[0mvid\u001b[0m\u001b[0;34m.\u001b[0m\u001b[0mread\u001b[0m\u001b[0;34m(\u001b[0m\u001b[0;34m)\u001b[0m\u001b[0;34m\u001b[0m\u001b[0;34m\u001b[0m\u001b[0m\n\u001b[0;32m---> 20\u001b[0;31m     \u001b[0mcv2\u001b[0m\u001b[0;34m.\u001b[0m\u001b[0mimshow\u001b[0m\u001b[0;34m(\u001b[0m\u001b[0;34m'frame'\u001b[0m\u001b[0;34m,\u001b[0m \u001b[0mframe\u001b[0m\u001b[0;34m)\u001b[0m\u001b[0;34m\u001b[0m\u001b[0;34m\u001b[0m\u001b[0m\n\u001b[0m\u001b[1;32m     21\u001b[0m     \u001b[0;31m#im1.set_data(frame)\u001b[0m\u001b[0;34m\u001b[0m\u001b[0;34m\u001b[0m\u001b[0;34m\u001b[0m\u001b[0m\n\u001b[1;32m     22\u001b[0m     \u001b[0;31m#im2.set_data(grab_frame(cap2))\u001b[0m\u001b[0;34m\u001b[0m\u001b[0;34m\u001b[0m\u001b[0;34m\u001b[0m\u001b[0m\n",
      "\u001b[0;31merror\u001b[0m: OpenCV(4.4.0) /tmp/pip-req-build-v7sdauef/opencv/modules/highgui/src/window.cpp:376: error: (-215:Assertion failed) size.width>0 && size.height>0 in function 'imshow'\n"
     ]
    }
   ],
   "source": [
    "\n",
    "def grab_frame(cap):\n",
    "    ret,frame = cap.read()\n",
    "    return cv2.cvtColor(frame,cv2.COLOR_BGR2RGB)\n",
    "\n",
    "\n",
    "#Initiate the two cameras\n",
    "vid = cv2.VideoCapture(1)\n",
    "\n",
    "#create two subplots\n",
    "#ax1 = plt.subplot(1,2,1)\n",
    "\n",
    "#create two image plots\n",
    "#ret, frame = vid.read()\n",
    "#im1 = ax1.imshow(frame)\n",
    "\n",
    "#plt.ion()\n",
    "\n",
    "while True:\n",
    "    ret, frame = vid.read()\n",
    "    cv2.imshow('frame', frame)\n",
    "    #im1.set_data(frame)\n",
    "    #im2.set_data(grab_frame(cap2))\n",
    "    #plt.pause(0.2)\n",
    "    time.sleep(0.1)\n",
    "\n",
    "plt.ioff() # due to infinite loop, this gets never called.\n",
    "plt.show()\n",
    "\n"
   ]
  },
  {
   "cell_type": "code",
   "execution_count": 34,
   "metadata": {},
   "outputs": [
    {
     "name": "stdout",
     "output_type": "stream",
     "text": [
      "looping\n",
      "looping\n",
      "looping\n",
      "looping\n",
      "looping\n",
      "looping\n",
      "looping\n",
      "looping\n",
      "looping\n",
      "looping\n",
      "looping\n",
      "looping\n"
     ]
    },
    {
     "ename": "KeyboardInterrupt",
     "evalue": "",
     "output_type": "error",
     "traceback": [
      "\u001b[0;31m---------------------------------------------------------------------------\u001b[0m",
      "\u001b[0;31mKeyboardInterrupt\u001b[0m                         Traceback (most recent call last)",
      "\u001b[0;32m<ipython-input-34-b36a1e2d506a>\u001b[0m in \u001b[0;36m<module>\u001b[0;34m\u001b[0m\n\u001b[1;32m      5\u001b[0m     \u001b[0;32mif\u001b[0m \u001b[0mret\u001b[0m\u001b[0;34m:\u001b[0m\u001b[0;34m\u001b[0m\u001b[0;34m\u001b[0m\u001b[0m\n\u001b[1;32m      6\u001b[0m         \u001b[0mimshow\u001b[0m\u001b[0;34m(\u001b[0m \u001b[0;34m\"video output\"\u001b[0m\u001b[0;34m,\u001b[0m \u001b[0mframe\u001b[0m \u001b[0;34m)\u001b[0m\u001b[0;34m\u001b[0m\u001b[0;34m\u001b[0m\u001b[0m\n\u001b[0;32m----> 7\u001b[0;31m     \u001b[0mtime\u001b[0m\u001b[0;34m.\u001b[0m\u001b[0msleep\u001b[0m\u001b[0;34m(\u001b[0m\u001b[0;36m0.3\u001b[0m\u001b[0;34m)\u001b[0m\u001b[0;34m\u001b[0m\u001b[0;34m\u001b[0m\u001b[0m\n\u001b[0m\u001b[1;32m      8\u001b[0m     \u001b[0;31m#if cv2.waitKey(1) & 0xFF == ord( 'x' ):\u001b[0m\u001b[0;34m\u001b[0m\u001b[0;34m\u001b[0m\u001b[0;34m\u001b[0m\u001b[0m\n\u001b[1;32m      9\u001b[0m     \u001b[0;31m#    break\u001b[0m\u001b[0;34m\u001b[0m\u001b[0;34m\u001b[0m\u001b[0;34m\u001b[0m\u001b[0m\n",
      "\u001b[0;31mKeyboardInterrupt\u001b[0m: "
     ]
    }
   ],
   "source": [
    "input = cv2.VideoCapture( 0 )\n",
    "while True:\n",
    "    print('looping')\n",
    "    ret, frame = input.read()\n",
    "    if ret:\n",
    "        imshow( \"video output\", frame )\n",
    "    time.sleep(0.3)\n",
    "    #if cv2.waitKey(1) & 0xFF == ord( 'x' ):\n",
    "    #    break\n",
    "    \n",
    "input.release()\n",
    "cv2.destroyAllWindows()"
   ]
  },
  {
   "cell_type": "code",
   "execution_count": null,
   "metadata": {},
   "outputs": [],
   "source": []
  }
 ],
 "metadata": {
  "kernelspec": {
   "display_name": "Python 3",
   "language": "python",
   "name": "python3"
  },
  "language_info": {
   "codemirror_mode": {
    "name": "ipython",
    "version": 3
   },
   "file_extension": ".py",
   "mimetype": "text/x-python",
   "name": "python",
   "nbconvert_exporter": "python",
   "pygments_lexer": "ipython3",
   "version": "3.7.6"
  }
 },
 "nbformat": 4,
 "nbformat_minor": 4
}
